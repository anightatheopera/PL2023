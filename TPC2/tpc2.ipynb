{
 "cells": [
  {
   "cell_type": "code",
   "execution_count": null,
   "metadata": {},
   "outputs": [],
   "source": [
    "texto = input(\"Introduza um texto: \")\n",
    "def parse_token(texto):\n",
    "    if texto[0:2] == \"on\":\n",
    "        return \"on\", texto[2:]\n",
    "    elif texto[0:3] == \"off\":\n",
    "        return \"off\", texto[3:]\n",
    "    elif texto[0:1] == \"=\":\n",
    "        return \"=\", texto[1:]\n",
    "    elif texto[0].isdigit():\n",
    "        i = 0\n",
    "        while i < len(texto) and texto[i].isdigit():\n",
    "            i += 1\n",
    "        return int(texto[0:i]), texto[i:]\n",
    "    else:\n",
    "        return None, texto[1:]\n",
    "\n",
    "def run(texto):\n",
    "    ret = 0\n",
    "    texto = texto.lower()\n",
    "    isOn = True\n",
    "    while texto != \"\":\n",
    "        parsed_token, texto = parse_token(texto)\n",
    "        if isinstance(parsed_token, str):\n",
    "            if parsed_token == \"on\":\n",
    "                isOn = True\n",
    "            elif parsed_token == \"off\":\n",
    "                isOn = False\n",
    "            elif parsed_token == \"=\":\n",
    "                print(ret)\n",
    "        elif isinstance(parsed_token, int):\n",
    "            if isOn:\n",
    "                ret += parsed_token\n",
    "            \n",
    "\n",
    "run(texto)\n"
   ]
  }
 ],
 "metadata": {
  "kernelspec": {
   "display_name": "Python 3",
   "language": "python",
   "name": "python3"
  },
  "language_info": {
   "codemirror_mode": {
    "name": "ipython",
    "version": 3
   },
   "file_extension": ".py",
   "mimetype": "text/x-python",
   "name": "python",
   "nbconvert_exporter": "python",
   "pygments_lexer": "ipython3",
   "version": "3.10.9"
  },
  "orig_nbformat": 4,
  "vscode": {
   "interpreter": {
    "hash": "767d51c1340bd893661ea55ea3124f6de3c7a262a8b4abca0554b478b1e2ff90"
   }
  }
 },
 "nbformat": 4,
 "nbformat_minor": 2
}
