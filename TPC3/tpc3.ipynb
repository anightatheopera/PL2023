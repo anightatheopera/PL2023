{
 "cells": [
  {
   "attachments": {},
   "cell_type": "markdown",
   "metadata": {},
   "source": [
    "# TPC3: Processador de Pessoas listadas nos Róis de Confessados\n",
    "\n",
    "\n",
    "Construa agora um ou vários programas Python\n",
    "para  processar o texto 'processos.txt' (procurar o ficheiro no Bb) com o intuito de\n",
    "calcular frequências de alguns elementos (a ideia é utilizar arrays associativos, dicionários em Python,\n",
    "para o efeito) conforme solicitado a seguir:\n",
    "\n",
    "> a) Calcula a frequência de processos por ano (primeiro elemento da data);\n",
    "\n",
    "> b) Calcula a frequência de nomes próprios (o primeiro em cada nome) e apelidos (o ultimo em cada nome) por séculos e apresenta os 5 mais usados;\n",
    "\n",
    "> c) Calcula a frequência dos vários tipos de relação: irmão, sobrinho, etc.;\n",
    "\n",
    "> d) Converta os 20 primeiros registos num novo ficheiro de output mas em formato **Json**."
   ]
  },
  {
   "cell_type": "code",
   "execution_count": 2,
   "metadata": {},
   "outputs": [
    {
     "name": "stdout",
     "output_type": "stream",
     "text": [
      "59\n"
     ]
    }
   ],
   "source": [
    "def full_parse(ficheiro):\n",
    "    texto = open(ficheiro, 'r')\n",
    "    aux = \"número_processo::data_processo::nome::pai::mãe::extras::\"\n",
    "    header = aux.strip().split('::')\n",
    "    total = []\n",
    "    for linha in texto:\n",
    "        if(len(linha) > 1):\n",
    "            campos = linha.strip().split('::')\n",
    "            pessoa = {}\n",
    "            for coluna in range(len(header)):\n",
    "                pessoa[header[coluna]] = campos[coluna]\n",
    "            total.append(pessoa)\n",
    "    return total\n",
    "\n",
    "dic_processos = full_parse('processos.txt')\n",
    "\n",
    "def parse_ano(data):\n",
    "    data = data.split('-')\n",
    "    return data[0]\n",
    "\n",
    "def parse_nome(nome):\n",
    "    nome = nome.split(' ')\n",
    "    return nome[0]\n",
    "\n",
    "def parse_apelido(nome):\n",
    "    nome = nome.split(' ')\n",
    "    return nome[-1]\n",
    "    \n",
    "\n",
    "def processos_por_ano(ano):\n",
    "    total = 0\n",
    "    for index in range(len(dic_processos)):\n",
    "        if parse_ano(dic_processos[index]['data_processo']) == ano:\n",
    "            total += 1\n",
    "    return total\n",
    "\n",
    "\n",
    "print(processos_por_ano('1901'))"
   ]
  }
 ],
 "metadata": {
  "kernelspec": {
   "display_name": "Python 3",
   "language": "python",
   "name": "python3"
  },
  "language_info": {
   "codemirror_mode": {
    "name": "ipython",
    "version": 3
   },
   "file_extension": ".py",
   "mimetype": "text/x-python",
   "name": "python",
   "nbconvert_exporter": "python",
   "pygments_lexer": "ipython3",
   "version": "3.10.9"
  },
  "orig_nbformat": 4,
  "vscode": {
   "interpreter": {
    "hash": "767d51c1340bd893661ea55ea3124f6de3c7a262a8b4abca0554b478b1e2ff90"
   }
  }
 },
 "nbformat": 4,
 "nbformat_minor": 2
}
